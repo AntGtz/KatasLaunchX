{
 "cells": [
  {
   "cell_type": "markdown",
   "metadata": {},
   "source": [
    "## Kata 9\n",
    "\n",
    "Funciones"
   ]
  },
  {
   "cell_type": "code",
   "execution_count": 8,
   "metadata": {},
   "outputs": [
    {
     "name": "stdout",
     "output_type": "stream",
     "text": [
      "Fuel Report:\n",
      "    Total Average: 56.666666666666664%\n",
      "    Tank 1: 90%\n",
      "    Tank 2: 75%\n",
      "    Tank 3: 5% \n",
      "    \n"
     ]
    }
   ],
   "source": [
    "\n",
    "def average(values):\n",
    "    total = sum(values)\n",
    "    number_of_items = len(values)\n",
    "    return total / number_of_items\n",
    "def report (tank1,tank2,tank3):\n",
    "    return f\"\"\"Fuel Report:\n",
    "    Total Average: {average([tank1, tank2, tank3])}%\n",
    "    Tank 1: {tank1}%\n",
    "    Tank 2: {tank2}%\n",
    "    Tank 3: {tank3}% \n",
    "    \"\"\"\n",
    "print(report(90, 75, 5))"
   ]
  },
  {
   "cell_type": "code",
   "execution_count": 14,
   "metadata": {},
   "outputs": [
    {
     "name": "stdout",
     "output_type": "stream",
     "text": [
      "\n",
      "    Mission to Moon\n",
      "    Total travel time: 385 minutes\n",
      "    Total fuel left: 4900000\n",
      "    main tank --> 2500000 gallons left\n",
      "external tank --> 2400000 gallons left\n",
      "\n"
     ]
    }
   ],
   "source": [
    "def mission(destination, *minutes, **fuelReservoirs):\n",
    "    report = f\"\"\"\n",
    "    Mission to {destination}\n",
    "    Total travel time: {sum(minutes)} minutes\n",
    "    Total fuel left: {sum(fuelReservoirs.values())}\n",
    "    \"\"\"\n",
    "    for tank_name, gallons in fuelReservoirs.items():\n",
    "        report += f\"{tank_name} tank --> {gallons} gallons left\\n\"\n",
    "    return report\n",
    "\n",
    "print(mission(\"Moon\", 40, 20, 325, main=2500000, external=2400000))"
   ]
  }
 ],
 "metadata": {
  "interpreter": {
   "hash": "33541a670e8887513ebdf0f19cec6625b51694c5ef6b1c7e83282c54d5cd54e5"
  },
  "kernelspec": {
   "display_name": "Python 3.10.2 64-bit",
   "language": "python",
   "name": "python3"
  },
  "language_info": {
   "codemirror_mode": {
    "name": "ipython",
    "version": 3
   },
   "file_extension": ".py",
   "mimetype": "text/x-python",
   "name": "python",
   "nbconvert_exporter": "python",
   "pygments_lexer": "ipython3",
   "version": "3.10.2"
  },
  "orig_nbformat": 4
 },
 "nbformat": 4,
 "nbformat_minor": 2
}
